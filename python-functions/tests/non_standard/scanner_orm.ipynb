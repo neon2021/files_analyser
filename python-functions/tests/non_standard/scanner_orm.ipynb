{
 "cells": [
  {
   "cell_type": "code",
   "execution_count": 48,
   "metadata": {},
   "outputs": [],
   "source": [
    "# %pip install SQLAlchemy"
   ]
  },
  {
   "cell_type": "code",
   "execution_count": 49,
   "metadata": {},
   "outputs": [],
   "source": [
    "from scanner import Storage, ScanningProcess"
   ]
  },
  {
   "cell_type": "code",
   "execution_count": 50,
   "metadata": {},
   "outputs": [],
   "source": [
    "from sqlalchemy import create_engine\n"
   ]
  },
  {
   "cell_type": "code",
   "execution_count": 51,
   "metadata": {},
   "outputs": [],
   "source": [
    "import sqlalchemy as sa\n",
    "\n",
    "from sqlalchemy import Column, Integer, String, DateTime\n",
    "from sqlalchemy.orm import Mapped, sessionmaker, declarative_base\n",
    "\n",
    "engine = create_engine(\"sqlite:////tmp/test.db\", echo=True)\n",
    "Session = sessionmaker(bind=engine)\n",
    "session = Session()\n",
    "Base = declarative_base()\n",
    "\n",
    "class StorageEntity(Base):\n",
    "    __tablename__ = \"storage\"\n",
    "\n",
    "    # ... mapped_column() mappings\n",
    "    id= Column(Integer, primary_key=True)\n",
    "    \n",
    "    name=Column(String)\n",
    "    uuid=Column(String)\n",
    "    dir_path=Column(String)\n",
    "    type=Column(String)\n",
    "    reg_time=Column(DateTime,nullable=True)\n",
    "    status=Column(String,nullable=True)\n",
    "    # database=Column(String,nullable=True)\n",
    "\n",
    "    # def __repr__(self) -> str:\n",
    "    #     return f'<Storage(name={self.name}, uuid={self.uuid}, dir_path={self.dir_path}, type={self.type}, regTime={self.regTime}, status={self.status}, database={self.database})'"
   ]
  },
  {
   "cell_type": "code",
   "execution_count": null,
   "metadata": {},
   "outputs": [],
   "source": [
    "Base.metadata.drop_all(engine)\n",
    "Base.metadata.create_all(engine)"
   ]
  },
  {
   "cell_type": "code",
   "execution_count": null,
   "metadata": {},
   "outputs": [],
   "source": [
    "from datetime import datetime\n",
    "s1 = StorageEntity(name=\"test disk\",uuid=\"test_uuid_123456789012345678901234567890\",dir_path=\"/tmp/test123\",type=\"osx\",reg_time=datetime.now())\n",
    "session.add(s1)\n",
    "session.commit()"
   ]
  },
  {
   "cell_type": "code",
   "execution_count": null,
   "metadata": {},
   "outputs": [],
   "source": [
    "result = session.query(StorageEntity).all()\n",
    "for row in result:\n",
    "    print(f\"name: {row.name}, uuid: {row.uuid}\")"
   ]
  }
 ],
 "metadata": {
  "kernelspec": {
   "display_name": "tf-metal",
   "language": "python",
   "name": "python3"
  },
  "language_info": {
   "codemirror_mode": {
    "name": "ipython",
    "version": 3
   },
   "file_extension": ".py",
   "mimetype": "text/x-python",
   "name": "python",
   "nbconvert_exporter": "python",
   "pygments_lexer": "ipython3",
   "version": "3.9.15"
  }
 },
 "nbformat": 4,
 "nbformat_minor": 2
}
