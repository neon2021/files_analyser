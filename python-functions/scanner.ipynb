{
 "cells": [
  {
   "cell_type": "markdown",
   "metadata": {},
   "source": [
    "# install pyyaml and sqlalchemy"
   ]
  },
  {
   "cell_type": "code",
   "execution_count": null,
   "metadata": {},
   "outputs": [],
   "source": [
    "%pip install pyyaml"
   ]
  },
  {
   "cell_type": "markdown",
   "metadata": {},
   "source": [
    "# common imports"
   ]
  },
  {
   "cell_type": "markdown",
   "metadata": {},
   "source": []
  },
  {
   "cell_type": "code",
   "execution_count": 2,
   "metadata": {},
   "outputs": [],
   "source": [
    "import os\n",
    "import re\n",
    "import glob\n",
    "from datetime import datetime, timezone\n",
    "\n",
    "import yaml\n",
    "import uuid as uuid_lib\n",
    "\n",
    "# \n",
    "# Domain Models\n",
    "# \n",
    "from scanner import ScanningProcess, FileInfo, Storage, ScanningRecord, StorageStatus, StorageType\n",
    "\n",
    "# \n",
    "# Common Helper functions\n",
    "# \n",
    "from scanner import now_time_str, now_time_str_ymd_hms, random_uuid_str\n",
    "\n",
    "from scanner import FakeDatabase"
   ]
  },
  {
   "cell_type": "markdown",
   "metadata": {},
   "source": [
    "# Read global configuration and create global DB"
   ]
  },
  {
   "cell_type": "code",
   "execution_count": null,
   "metadata": {},
   "outputs": [],
   "source": [
    "\n",
    "with open(os.path.expanduser('~/scanner-config.yaml'),'r') as file:\n",
    "    config = yaml.load(file,Loader=yaml.FullLoader)\n",
    "print(\"config:\",config)\n",
    "\n",
    "DB = FakeDatabase()"
   ]
  },
  {
   "cell_type": "markdown",
   "metadata": {},
   "source": [
    "# initialization of storages infomation"
   ]
  },
  {
   "cell_type": "code",
   "execution_count": null,
   "metadata": {},
   "outputs": [],
   "source": [
    "# initialization of storages infomation\n",
    "\n",
    "uuid_to_abs_path={}\n",
    "for rootdir, dirtype in config['storage-locations'].items():\n",
    "    try:\n",
    "        for path in os.listdir(rootdir):\n",
    "            # print(\"path: \",path)\n",
    "            if path.endswith('.storage-location-id'):\n",
    "                # print(\"id path: \",path)\n",
    "                uuid = re.sub(r'(.+)\\.storage-location-id',r'\\1',path)\n",
    "                uuid_to_abs_path[uuid] = {\"uuid\":uuid,\"path\":rootdir,\"type\":dirtype}\n",
    "    except Exception as e:\n",
    "        # print('for scan_proc: ctx: path={path}, error:{errMessage}'.format(path=rootdir, errMessage=repr(e))) # repr(e)=\"FileNotFoundError(2, 'No such file or directory')\"\n",
    "        print('for scan_proc: ctx: path={path}, error:{errMessage}'.format(path=rootdir, errMessage=str(e)))\n",
    "        # print('for scan_proc: ctx: path={path}, error:{errMessage}'.format(path=rootdir, errMessage=e)) # e=\"[Errno 2] No such file or directory: '/Volumes/VOLUME1'\"\n",
    "        # print('for scan_proc: ctx: path={path}, error:{errMessage}'.format(path=rootdir, errMessage=type(e))) # type(e)=\"<class 'FileNotFoundError'>\"\n",
    "print('uuid_to_abs_path: ',uuid_to_abs_path)\n",
    "\n",
    "print('uuid_to_abs_path.values(): ',uuid_to_abs_path.values())"
   ]
  },
  {
   "cell_type": "markdown",
   "metadata": {},
   "source": [
    "## function for scanning folder"
   ]
  },
  {
   "cell_type": "markdown",
   "metadata": {},
   "source": [
    "## extention function for accessing files on icloud"
   ]
  },
  {
   "cell_type": "code",
   "execution_count": 5,
   "metadata": {},
   "outputs": [],
   "source": [
    "downloaded_folder_list = set()\n",
    "def trigger_downloading_from_icloud(rootdir_info:Storage, abs_file_path:str):\n",
    "    if rootdir_info.get_type()!=StorageType.OSX:\n",
    "        return\n",
    "    \n",
    "    dir_path = os.path.dirname(abs_file_path)\n",
    "    if dir_path not in downloaded_folder_list:\n",
    "        print('{time}: begin to download {path} from icloud'.format(time=now_time_str(),path=dir_path))\n",
    "        try:\n",
    "            # os.system('find \"{dir_path}\" -type f -exec mdfind \"kMDItemFSLocalizedName=($1)\" \\; -print0 -maxdepth 1| xargs -0 ls -l'.format(dir_path=dir_path))\n",
    "            downloaded_folder_list.add(dir_path)\n",
    "            os.system('find \"{dir_path}\" -type f -exec mdfind \"kMDItemFSLocalizedName=($1)\" \\; -print0 -maxdepth 1| xargs -0 brctl download'.format(dir_path=dir_path))\n",
    "            downloaded_folder_list.add(dir_path)\n",
    "        except Exception as e:\n",
    "            print(\"exception for dir_path:{path} : \".format(path=dir_path), e)\n",
    "        print('{time}: complete the operation of downloading {path} from icloud'.format(time=now_time_str(),path=dir_path))"
   ]
  },
  {
   "cell_type": "markdown",
   "metadata": {},
   "source": [
    "# CRUCIAL STEP: initialize a storage and persist its info in database"
   ]
  },
  {
   "cell_type": "code",
   "execution_count": null,
   "metadata": {},
   "outputs": [],
   "source": [
    "# for rootdir in uuid_to_abs_path.values():\n",
    "#     scan_folder(rootdir, 20, trigger_downloading_from_icloud)\n",
    "\n",
    "cur_storage = Storage()\n",
    "cur_storage.set_dir_path('~/Documents')\n",
    "cur_storage.set_name('mac_documents')\n",
    "cur_storage.set_regTime(datetime.now())\n",
    "cur_storage.set_status(StorageStatus.VALID)\n",
    "cur_storage.set_type(StorageType.OSX)\n",
    "cur_storage.set_uuid(random_uuid_str())\n",
    "cur_storage.set_db_instance(DB)\n",
    "cur_storage.save_self()"
   ]
  },
  {
   "cell_type": "markdown",
   "metadata": {},
   "source": [
    "# CRUCIAL STEP: create a ScanningProcess for scanning the storage and continually create a lot of ScanningRecord"
   ]
  },
  {
   "cell_type": "code",
   "execution_count": null,
   "metadata": {},
   "outputs": [],
   "source": [
    "one_scan_proc = ScanningProcess.create_from(cur_storage, DB)\n",
    "one_scan_proc.save_self()\n",
    "\n",
    "one_scan_proc.scan_folder(20, trigger_downloading_from_icloud)"
   ]
  },
  {
   "cell_type": "code",
   "execution_count": 8,
   "metadata": {},
   "outputs": [],
   "source": [
    "# print(\"scan_rec_list: \",scan_rec_list, \" len(scan_rec_list): \",len(scan_rec_list))"
   ]
  },
  {
   "cell_type": "markdown",
   "metadata": {},
   "source": [
    "# hash function with blake2b or md5"
   ]
  },
  {
   "cell_type": "code",
   "execution_count": 9,
   "metadata": {},
   "outputs": [],
   "source": [
    "import magic\n",
    "import hashlib\n",
    "import timeit\n",
    "\n",
    "BLOCKSIZE_1MB=1*1024*1024\n",
    "# BLOCKSIZE_1MB=8*1024\n",
    "\n",
    "def blake2b_file(file_path:str):\n",
    "    '''\n",
    "    sourced from https://gist.github.com/aunyks/042c2798383f016939c40aa1be4f4aaf\n",
    "    '''\n",
    "    start = timeit.default_timer()\n",
    "    blake2b = hashlib.blake2b()\n",
    "    # blake2b = hashlib.md5()\n",
    "    with open(file_path, 'rb') as tmp_file_object:\n",
    "        while True:\n",
    "            file_buffer = tmp_file_object.read(BLOCKSIZE_1MB)\n",
    "            # print(\"len(file_buffer): \",len(file_buffer))\n",
    "            if not file_buffer:\n",
    "                break\n",
    "            blake2b.update(file_buffer)\n",
    "    end = timeit.default_timer()\n",
    "    print('time_perf(nano_sec):blake2b_file: time_elapse={time_elapse},file_path={file_path}'\\\n",
    "          .format(\n",
    "            time_elapse=(end-start),file_path=file_path)\n",
    "        )\n",
    "    return blake2b.hexdigest()"
   ]
  },
  {
   "cell_type": "markdown",
   "metadata": {},
   "source": [
    "## some testing code for hash function"
   ]
  },
  {
   "cell_type": "code",
   "execution_count": null,
   "metadata": {},
   "outputs": [],
   "source": [
    "blake2b_file('~/Documents/TalkPython_2021_11_17_345__10 Tips and Tools for Developer Productivity Transcript.docx')\n",
    "# blake2b_file('~/Documents/talkpython_345-10-tips-and-tools.aup3')"
   ]
  },
  {
   "cell_type": "code",
   "execution_count": null,
   "metadata": {},
   "outputs": [],
   "source": [
    "tempHash = hashlib.blake2b()\n",
    "tempHash.update(b'')\n",
    "tempHash.hexdigest()"
   ]
  },
  {
   "cell_type": "markdown",
   "metadata": {},
   "source": [
    "# CRUICIAL STEP: create FileInfo list from found_files which is scanned from a specified directory"
   ]
  },
  {
   "cell_type": "code",
   "execution_count": null,
   "metadata": {},
   "outputs": [],
   "source": [
    "'''\n",
    "this code has concerned the subtle differences of the meaning of os.stat.st_ctime for creation time in different operating systems\n",
    "'''\n",
    "\n",
    "file_info_list = []\n",
    "scan_rec_list:list[ScanningRecord] = DB.load_all('ScanningRecord')\n",
    "for scan_rec in scan_rec_list:\n",
    "    try:\n",
    "        file = scan_rec.get_scan_abs_path()\n",
    "        mime_res_complete = magic.from_file(file)\n",
    "        mime_res_brief = magic.from_file(file, mime=True)\n",
    "        file_hash = blake2b_file(file)\n",
    "        \n",
    "        file_stat = os.stat(file)\n",
    "        \n",
    "        fileInfo = FileInfo()\n",
    "        fileInfo.set_file_size(file_stat.st_size)\n",
    "        fileInfo.set_hash(file_hash)\n",
    "        fileInfo.set_hash_algo('blake2b')\n",
    "        fileInfo.set_mime_type(mime_res_brief)\n",
    "        \n",
    "        fileInfo.set_os_access_time(datetime.fromtimestamp(file_stat.st_atime, tz=timezone.utc))\n",
    "        fileInfo.set_os_create_time(datetime.fromtimestamp(file_stat.st_birthtime if file_stat.st_birthtime and file_stat.st_birthtime<file_stat.st_ctime else file_stat.st_ctime, tz=timezone.utc)) # https://stackoverflow.com/questions/36984697/file-creation-time-do-not-match-when-using-os-stat and https://stackoverflow.com/questions/73534051/get-files-epoch-timestamp-convert-to-datetime-to-string-and-then-to-the-iden\n",
    "        fileInfo.set_os_modify_time(datetime.fromtimestamp(file_stat.st_mtime, tz=timezone.utc))\n",
    "        fileInfo.set_path(re.sub(r'{storage_path}(.*)'.format(storage_path=cur_storage.get_dir_path()),\n",
    "                                r'{storage_uuid}{os_path_sep}\\1'.format(storage_uuid=cur_storage.get_uuid(),os_path_sep=os.path.sep),\n",
    "                                file)\n",
    "                        )\n",
    "        fileInfo.set_scan_proc_uuid(one_scan_proc.get_uuid())\n",
    "        fileInfo.set_scanned_time(datetime.now())\n",
    "        print('fileInfo: ',fileInfo)\n",
    "        \n",
    "        file_info_list.append(fileInfo)\n",
    "        scan_rec.set_exec_status('ok')\n",
    "    except Exception as e:\n",
    "        scan_rec.set_exec_status('error')\n",
    "        scan_rec.set_exec_msg(e)"
   ]
  },
  {
   "cell_type": "code",
   "execution_count": null,
   "metadata": {},
   "outputs": [],
   "source": [
    "for scan_record in scan_rec_list:\n",
    "    print(\"scan_record: \", scan_record.get_uuid(),scan_record.get_exec_status(),scan_record.get_exec_msg(),\"\\n\")\n",
    "    \n",
    "for file in file_info_list:\n",
    "    print(\"file: \", file,\"\\n\")\n",
    "    # print('file:{file}'.format(file=file))\n",
    "    # print('file:{file}\\n\\n'.format(file=repr(file)))"
   ]
  }
 ],
 "metadata": {
  "kernelspec": {
   "display_name": "tf-metal",
   "language": "python",
   "name": "python3"
  },
  "language_info": {
   "codemirror_mode": {
    "name": "ipython",
    "version": 3
   },
   "file_extension": ".py",
   "mimetype": "text/x-python",
   "name": "python",
   "nbconvert_exporter": "python",
   "pygments_lexer": "ipython3",
   "version": "3.9.15"
  }
 },
 "nbformat": 4,
 "nbformat_minor": 2
}
